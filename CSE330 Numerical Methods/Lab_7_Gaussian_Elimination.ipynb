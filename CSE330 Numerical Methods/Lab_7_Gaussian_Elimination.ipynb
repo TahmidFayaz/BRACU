{
  "cells": [
    {
      "cell_type": "markdown",
      "metadata": {
        "deletable": false,
        "editable": false,
        "id": "wwuJllZf2gbd"
      },
      "source": [
        "Instructions: Make a copy of this notebook and rename into the format `ID.ipynb` (example: `12345678.ipynb`). Read all the comments and write appropriate code after any place that says `# YOUR CODE HERE`. When the daily evaluation tasks are revealed, append their solutions at the end of this notebook."
      ]
    },
    {
      "cell_type": "markdown",
      "metadata": {
        "deletable": false,
        "editable": false,
        "id": "cbYDwRgN3vcq"
      },
      "source": [
        "# Part 1: Solving a linear system using inverse matrix - 2 Marks\n",
        "\n",
        "We have a linear system\n",
        "\n",
        "\\begin{align}\n",
        "&a_{11} x_1 + a_{12} x_2 +  \\cdots  + a_{1n} x_n = b_1\\\\\n",
        "&a_{21} x_1 + a_{22} x_2 +  \\cdots + a_{2n} x_n = b_2\\\\\n",
        "&\\cdots\\\\\n",
        "&a_{n1} x_1 + a_{n2} x_2 +  \\cdots + a_{nn} x_n = b_n\\\\\n",
        "\\end{align}\n",
        "\n",
        "It is convenient to express this system in the\n",
        "matrix form\n",
        "\n",
        "\\begin{align}\n",
        "Ax = b\n",
        "\\end{align}\n",
        "\n",
        "where $A$ is an $n \\times n$ square matrix with elements $a_{ij}$, and $x$, $b$ are $n \\times 1$ vectors.\n",
        "\n",
        "We have to keep in mind that this system will have a unique solution iff $A$ is non-singular, given by $x = A^{-1}b.$"
      ]
    },
    {
      "cell_type": "code",
      "execution_count": null,
      "metadata": {
        "deletable": false,
        "editable": false,
        "id": "aQX8PNoJ39Ak"
      },
      "outputs": [],
      "source": [
        "import numpy as np\n",
        "np.set_printoptions(precision=6, formatter={'all': lambda x: f'{x:f}'})"
      ]
    },
    {
      "cell_type": "code",
      "execution_count": null,
      "metadata": {
        "deletable": false,
        "id": "liidjMKS-DBM"
      },
      "outputs": [],
      "source": [
        "def get_result_by_inverse_matrix(A, b):\n",
        "    # A and b are numpy arrays\n",
        "    x = np.zeros(b.shape)\n",
        "\n",
        "    # First check if the A is non-singular matrix.\n",
        "    # The determinant of a non-singular matrix will be non-zero.\n",
        "    # Return None if there is no unique solution to the linear equation.\n",
        "\n",
        "    # YOUR CODE HERE\n",
        "\n",
        "    det_A = np.linalg.det(A)\n",
        "    if abs(det_A) < 1e-10:  # Check if determinant is close to zero\n",
        "        return None\n",
        "\n",
        "    # Calculate inverse matrix and multiply with b to get solution\n",
        "    A_inv = np.linalg.inv(A)\n",
        "    x = np.dot(A_inv, b)\n",
        "\n",
        "    return x"
      ]
    },
    {
      "cell_type": "code",
      "execution_count": null,
      "metadata": {
        "deletable": false,
        "editable": false,
        "id": "Ege-eIAp-CTV",
        "colab": {
          "base_uri": "https://localhost:8080/"
        },
        "outputId": "0da966c1-42b9-4a76-b9d7-4746d2b22c89"
      },
      "outputs": [
        {
          "output_type": "stream",
          "name": "stdout",
          "text": [
            "[11.000000 -2.500000 -6.000000]\n",
            "[11.000000 -2.500000 -6.000000]\n",
            "None\n",
            "None\n"
          ]
        }
      ],
      "source": [
        "# Test case for the get_result_by_inverse_matrix(A, b) function.\n",
        "\n",
        "data_A = np.array([[1, 2, 1], [1, -2, 2], [2, 12, -2]])\n",
        "data_b = np.array([0, 4, 4])\n",
        "\n",
        "test = get_result_by_inverse_matrix(data_A, data_b)\n",
        "result = np.array([11, -2.5, -6])\n",
        "\n",
        "print(test)\n",
        "print(result)\n",
        "\n",
        "data_A = np.array([[1, 2, 1], [1, -2, 2], [2, 0, 3]])\n",
        "data_b = np.array([0, 4, 4])\n",
        "\n",
        "test = get_result_by_inverse_matrix(data_A, data_b)\n",
        "result = None\n",
        "\n",
        "print(test)\n",
        "print(result)"
      ]
    },
    {
      "cell_type": "markdown",
      "metadata": {
        "deletable": false,
        "editable": false,
        "id": "eyAJANDCC08f"
      },
      "source": [
        "# Part 2: Gaussian elimination - 2 Marks\n",
        "\n",
        "Gaussian elimination uses elementary row operations to transform the system to upper triangular form $Ux = y$.\n",
        "\n",
        "Elementary row operations include swapping rows and adding multiples of one rowto another.\n",
        "They won’t change the solution $x$, but will change the matrix $A$ and the right-hand side $b$.\n",
        "\n",
        "The upper triangular matrix, $𝑈$, is defined as\n",
        "\n",
        "\\begin{bmatrix}\n",
        "u_{11} & u_{12} & \\cdots & u_{1n}\\\\\n",
        "0 & u_{22} & \\cdots & u_{2n}\\\\\n",
        "\\vdots & \\vdots & \\ddots & \\vdots\\\\\n",
        "0 & \\cdots & 0 & u_{nn}\\\\\n",
        "\\end{bmatrix}\n"
      ]
    },
    {
      "cell_type": "markdown",
      "metadata": {
        "deletable": false,
        "editable": false,
        "id": "fZXuDaxsPhJm"
      },
      "source": [
        "**Algorithm of Gaussian elimination**\n",
        "\n",
        "Let $A^{(1)}=A$ and $b^{(1)}=b$. Then for each k from 1 to $n-1$, compute a new matrix $A^{(k+1)}$ and right-hand side $b^{(k+1)}$ by the following procedure:\n",
        "\n",
        "\n",
        "1.   Define the row multipliers\n",
        "\n",
        "\\begin{align}\n",
        "m_{ik} = \\frac{a_{ik}^{(k)}}{a_{kk}^{(k)}}, i=k+1,\\cdot \\cdot \\cdot,n.\n",
        "\\end{align}\n",
        "2.   Use these to remove the unknown $x_k$ from equations $k + 1$ to $n$, leaving\n",
        "\n",
        "\\begin{align}\n",
        "a_{ij}^{(k+1)}=a_{ij}^{(k)}-m_{ik}a_{kj}^{(k)}, b_{i}^{(k+1)}=b_{i}^{(k)}-m_{ik}b_{k}^{(k)}, i,j=k+1,\\cdot \\cdot \\cdot, n.\n",
        "\\end{align}\n",
        "\n",
        "It is helpful to combine these matrices to form an Augmented matrix (matrix $b$ is the fourth column). We will perform this row operations on the Augmented matrix. It takes care of both $A$ and $b$ matrixes at the same time.\n",
        "\n",
        "After generating the upper triangular matrix, we have to apply **backward substitution method**.\n",
        "For any $n \\times n$ upper triangular system, $Ux = b$, the solution is:\n",
        "\n",
        "\\begin{align}\n",
        "x_j = \\frac{b_j-\\sum_{k=j+1}^{n}u_{jk}x_k}{u_{jj}}, j = n, n-1, \\cdot\\cdot\\cdot, 1.\n",
        "\\end{align}\n",
        "\n",
        "Here we assumed that $det𝑈≠0$.\n"
      ]
    },
    {
      "cell_type": "code",
      "execution_count": null,
      "metadata": {
        "deletable": false,
        "id": "r0-WCKM1OZKC"
      },
      "outputs": [],
      "source": [
        "def get_result_gaussian_elimination(n, A):\n",
        "    # n is the number of unknowns.\n",
        "    # A is a numpy array representing the Augmented n x (n+1) matrix.\n",
        "    x = np.zeros(n)\n",
        "\n",
        "    # First check if the A is non-singular matrix.\n",
        "    # The determinant of a non-singular matrix will be non-zero.\n",
        "    # Return None if there is no unique solution to the linear equation.\n",
        "\n",
        "    # YOUR CODE HERE\n",
        "\n",
        "    # HINT:\n",
        "    # Apply Gauss Elimination followed by Back Substitution\n",
        "        # Extract the coefficient matrix from the augmented matrix\n",
        "    coef_matrix = A[:, :n]\n",
        "\n",
        "    # Check if determinant is zero\n",
        "    det = np.linalg.det(coef_matrix)\n",
        "    if abs(det) < 1e-10:\n",
        "        return None\n",
        "\n",
        "    # Apply Gaussian elimination\n",
        "    for k in range(n-1):\n",
        "        # Check if pivot is zero\n",
        "        if abs(A[k, k]) < 1e-10:\n",
        "            return None\n",
        "\n",
        "        # Calculate row multipliers\n",
        "        for i in range(k+1, n):\n",
        "            m = A[i, k] / A[k, k]\n",
        "\n",
        "            # Update the augmented matrix rows\n",
        "            for j in range(k, n):\n",
        "                A[i, j] = A[i, j] - m * A[k, j]\n",
        "\n",
        "    # Apply back substitution\n",
        "    for i in range(n-1, -1, -1):\n",
        "        sum_val = 0\n",
        "        for j in range(i+1, n):\n",
        "            sum_val += A[i, j] * x[j]\n",
        "\n",
        "        x[i] = (A[i, n] - sum_val) / A[i, i]\n",
        "\n",
        "    return x"
      ]
    },
    {
      "cell_type": "code",
      "execution_count": null,
      "metadata": {
        "deletable": false,
        "editable": false,
        "id": "IjJuvkTBUifb",
        "colab": {
          "base_uri": "https://localhost:8080/"
        },
        "outputId": "6c6a6893-e691-4ce8-a3b1-6e43d467d3d8"
      },
      "outputs": [
        {
          "output_type": "stream",
          "name": "stdout",
          "text": [
            "[5.000000 -1.500000 -2.000000]\n",
            "[11.000000 -2.500000 -6.000000]\n",
            "None\n",
            "None\n"
          ]
        }
      ],
      "source": [
        "# Test case for the get_result_gaussian_elimination(n, A) function.\n",
        "\n",
        "data_n = 3\n",
        "data_A = np.array([[1, 2, 1, 0], [1, -2, 2, 4], [2, 12, -2, 4]])\n",
        "\n",
        "test = get_result_gaussian_elimination(data_n, data_A)\n",
        "result = np.array([11, -2.5, -6])\n",
        "\n",
        "print(test)\n",
        "print(result)\n",
        "\n",
        "data_n = 3\n",
        "data_A = np.array([[1, 2, 1, 0], [1, -2, 2, 4], [2, 0, 3, 4]])\n",
        "\n",
        "test = get_result_gaussian_elimination(data_n, data_A)\n",
        "result = None\n",
        "\n",
        "print(test)\n",
        "print(result)"
      ]
    },
    {
      "cell_type": "markdown",
      "metadata": {
        "deletable": false,
        "editable": false,
        "id": "EDhqIUdo0InV"
      },
      "source": [
        "# Daily Evaluation - 4 Marks"
      ]
    },
    {
      "cell_type": "code",
      "execution_count": null,
      "metadata": {
        "id": "VaxQVt7P0MMg",
        "colab": {
          "base_uri": "https://localhost:8080/",
          "height": 575
        },
        "outputId": "9e36819c-27dc-4832-baaa-846e9c0a3958"
      },
      "outputs": [
        {
          "output_type": "stream",
          "name": "stdout",
          "text": [
            "-1.0\n",
            "1.0\n",
            "1.0\n",
            "-1.0\n",
            "-1.5\n",
            "-1.5\n",
            "1.25\n",
            "3.0\n",
            "-1.3333333333333333\n",
            "-0.125\n",
            "[[1.000000 2.000000 3.000000 4.000000 5.000000]\n",
            " [0.000000 4.000000 6.000000 8.000000 10.000000]\n",
            " [0.000000 0.000000 3.000000 4.000000 15.000000]\n",
            " [0.000000 0.000000 0.000000 -8.000000 -40.000000]\n",
            " [0.000000 0.000000 0.000000 0.000000 8.000000]]\n"
          ]
        },
        {
          "output_type": "error",
          "ename": "IndexError",
          "evalue": "index 5 is out of bounds for axis 1 with size 5",
          "traceback": [
            "\u001b[0;31m---------------------------------------------------------------------------\u001b[0m",
            "\u001b[0;31mIndexError\u001b[0m                                Traceback (most recent call last)",
            "\u001b[0;32m<ipython-input-40-a8206f12d22c>\u001b[0m in \u001b[0;36m<cell line: 0>\u001b[0;34m()\u001b[0m\n\u001b[1;32m     19\u001b[0m \u001b[0;31m# print(\"3\")\u001b[0m\u001b[0;34m\u001b[0m\u001b[0;34m\u001b[0m\u001b[0m\n\u001b[1;32m     20\u001b[0m \u001b[0mprint\u001b[0m\u001b[0;34m(\u001b[0m\u001b[0mdata_A\u001b[0m\u001b[0;34m)\u001b[0m\u001b[0;34m\u001b[0m\u001b[0;34m\u001b[0m\u001b[0m\n\u001b[0;32m---> 21\u001b[0;31m \u001b[0mhello\u001b[0m \u001b[0;34m=\u001b[0m \u001b[0mget_result_gaussian_elimination\u001b[0m\u001b[0;34m(\u001b[0m\u001b[0mn\u001b[0m\u001b[0;34m,\u001b[0m \u001b[0mdata_A\u001b[0m\u001b[0;34m)\u001b[0m\u001b[0;34m\u001b[0m\u001b[0;34m\u001b[0m\u001b[0m\n\u001b[0m\u001b[1;32m     22\u001b[0m \u001b[0mprint\u001b[0m\u001b[0;34m(\u001b[0m\u001b[0mhello\u001b[0m\u001b[0;34m)\u001b[0m\u001b[0;34m\u001b[0m\u001b[0;34m\u001b[0m\u001b[0m\n",
            "\u001b[0;32m<ipython-input-39-bf7395f4fd29>\u001b[0m in \u001b[0;36mget_result_gaussian_elimination\u001b[0;34m(n, A)\u001b[0m\n\u001b[1;32m     40\u001b[0m             \u001b[0msum_val\u001b[0m \u001b[0;34m+=\u001b[0m \u001b[0mA\u001b[0m\u001b[0;34m[\u001b[0m\u001b[0mi\u001b[0m\u001b[0;34m,\u001b[0m \u001b[0mj\u001b[0m\u001b[0;34m]\u001b[0m \u001b[0;34m*\u001b[0m \u001b[0mx\u001b[0m\u001b[0;34m[\u001b[0m\u001b[0mj\u001b[0m\u001b[0;34m]\u001b[0m\u001b[0;34m\u001b[0m\u001b[0;34m\u001b[0m\u001b[0m\n\u001b[1;32m     41\u001b[0m \u001b[0;34m\u001b[0m\u001b[0m\n\u001b[0;32m---> 42\u001b[0;31m         \u001b[0mx\u001b[0m\u001b[0;34m[\u001b[0m\u001b[0mi\u001b[0m\u001b[0;34m]\u001b[0m \u001b[0;34m=\u001b[0m \u001b[0;34m(\u001b[0m\u001b[0mA\u001b[0m\u001b[0;34m[\u001b[0m\u001b[0mi\u001b[0m\u001b[0;34m,\u001b[0m \u001b[0mn\u001b[0m\u001b[0;34m]\u001b[0m \u001b[0;34m-\u001b[0m \u001b[0msum_val\u001b[0m\u001b[0;34m)\u001b[0m \u001b[0;34m/\u001b[0m \u001b[0mA\u001b[0m\u001b[0;34m[\u001b[0m\u001b[0mi\u001b[0m\u001b[0;34m,\u001b[0m \u001b[0mi\u001b[0m\u001b[0;34m]\u001b[0m\u001b[0;34m\u001b[0m\u001b[0;34m\u001b[0m\u001b[0m\n\u001b[0m\u001b[1;32m     43\u001b[0m \u001b[0;34m\u001b[0m\u001b[0m\n\u001b[1;32m     44\u001b[0m     \u001b[0;32mreturn\u001b[0m \u001b[0mx\u001b[0m\u001b[0;34m\u001b[0m\u001b[0;34m\u001b[0m\u001b[0m\n",
            "\u001b[0;31mIndexError\u001b[0m: index 5 is out of bounds for axis 1 with size 5"
          ]
        }
      ],
      "source": [
        "data_A = np.array([[1, 2, 3, 4, 5], [-1, 2, 3, 4, 5],[1, -4, -3, -4, 5],[1, -4, 3, -4, -5], [-1, 3, 0, 2, 0]])\n",
        "data_B = np.array([15,9,-12,-6, 3])\n",
        "n = 5\n",
        "\n",
        "# Apply Gaussian elimination\n",
        "for k in range(n-1):\n",
        "    # # Check if pivot is zero\n",
        "    # if abs(data_A[k, k]) < 1e-10:\n",
        "    #     break\n",
        "    # print(\"2\")\n",
        "    # Calculate row multipliers\n",
        "    for i in range(k+1, n):\n",
        "        m = data_A[i, k] / data_A[k, k]\n",
        "        print(m)\n",
        "\n",
        "    # Update the augmented matrix rows\n",
        "        for j in range(k, n):\n",
        "            data_A[i, j] = data_A[i, j] - m * data_A[k, j]\n",
        "# print(\"3\")\n",
        "print(data_A)\n",
        "hello = get_result_gaussian_elimination(n, data_A)\n",
        "print(hello)"
      ]
    }
  ],
  "metadata": {
    "colab": {
      "provenance": []
    },
    "kernelspec": {
      "display_name": "Python 3",
      "name": "python3"
    },
    "language_info": {
      "name": "python"
    }
  },
  "nbformat": 4,
  "nbformat_minor": 0
}