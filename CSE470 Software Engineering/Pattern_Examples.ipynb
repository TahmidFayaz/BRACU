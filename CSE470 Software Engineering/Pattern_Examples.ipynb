{
  "nbformat": 4,
  "nbformat_minor": 0,
  "metadata": {
    "colab": {
      "provenance": []
    },
    "kernelspec": {
      "name": "python3",
      "display_name": "Python 3"
    },
    "language_info": {
      "name": "python"
    }
  },
  "cells": [
    {
      "cell_type": "markdown",
      "source": [
        "**Singleton**"
      ],
      "metadata": {
        "id": "mxZl_JZoNgU8"
      }
    },
    {
      "cell_type": "code",
      "execution_count": null,
      "metadata": {
        "colab": {
          "base_uri": "https://localhost:8080/"
        },
        "id": "UeAwaxHCNXc6",
        "outputId": "72aeda99-741b-4fe0-b03e-c21943ec8926"
      },
      "outputs": [
        {
          "output_type": "stream",
          "name": "stdout",
          "text": [
            "True\n"
          ]
        }
      ],
      "source": [
        "class Logger:\n",
        "    _instance = None\n",
        "\n",
        "    def __new__(cls):\n",
        "        if cls._instance is None:\n",
        "            cls._instance = super(Logger, cls).__new__(cls)\n",
        "            # cls._instance.log_file = open(\"app.log\", \"a\")\n",
        "        return cls._instance\n",
        "\n",
        "    def log(self, message):\n",
        "        self.log_file.write(message + \"\\n\")\n",
        "\n",
        "# Usage\n",
        "logger1 = Logger()\n",
        "logger2 = Logger()\n",
        "logger1.log(\"Error: Something went wrong\")\n",
        "logger2.log(\"Info: System started\")\n",
        "\n",
        "print(logger1 is logger2)  # True (same instance)"
      ]
    },
    {
      "cell_type": "code",
      "source": [
        "class GameSettings:\n",
        "    # Class variable to store the single instance\n",
        "    _instance = None\n",
        "\n",
        "    def __new__(cls):\n",
        "        # Create the instance only if it doesn't exist\n",
        "        if cls._instance is None:\n",
        "            cls._instance = super(GameSettings, cls).__new__(cls)\n",
        "            # Initialize settings (like volume and difficulty)\n",
        "            cls._instance.volume = 50\n",
        "            cls._instance.difficulty = \"Easy\"\n",
        "        return cls._instance\n",
        "\n",
        "    def set_volume(self, volume):\n",
        "        self.volume = volume\n",
        "        print(f\"Volume set to {self.volume}\")\n",
        "\n",
        "    def set_difficulty(self, difficulty):\n",
        "        self.difficulty = difficulty\n",
        "        print(f\"Difficulty set to {self.difficulty}\")\n",
        "\n",
        "    def show_settings(self):\n",
        "        print(f\"Current Settings: Volume = {self.volume}, Difficulty = {self.difficulty}\")\n",
        "\n",
        "# Usage\n",
        "settings1 = GameSettings()\n",
        "settings1.show_settings()\n",
        "settings1.set_volume(70)  # Change volume\n",
        "settings1.show_settings()\n",
        "\n",
        "settings2 = GameSettings()  # Try to create another instance\n",
        "settings2.show_settings()\n",
        "# settings2.set_difficulty(\"Hard\")  # Change difficulty\n",
        "# settings2.show_settings()\n",
        "# settings1.show_settings()\n",
        "\n",
        "print(settings1 is settings2)  # Check if they are the same instance"
      ],
      "metadata": {
        "colab": {
          "base_uri": "https://localhost:8080/"
        },
        "id": "OV0jmGsLOFxU",
        "outputId": "6223fe7e-c39f-4120-d18c-99b0e19499b6"
      },
      "execution_count": null,
      "outputs": [
        {
          "output_type": "stream",
          "name": "stdout",
          "text": [
            "Current Settings: Volume = 50, Difficulty = Easy\n",
            "Volume set to 70\n",
            "Current Settings: Volume = 70, Difficulty = Easy\n",
            "Current Settings: Volume = 70, Difficulty = Easy\n",
            "True\n"
          ]
        }
      ]
    },
    {
      "cell_type": "markdown",
      "source": [
        "**Alternative**"
      ],
      "metadata": {
        "id": "rBFheQqJONoY"
      }
    },
    {
      "cell_type": "code",
      "source": [
        "class GameSettings:\n",
        "    _instance = None\n",
        "\n",
        "    @classmethod\n",
        "    def get_instance(cls):\n",
        "        if cls._instance is None:\n",
        "            cls._instance = GameSettings()\n",
        "            cls._instance.volume = 50\n",
        "            cls._instance.difficulty = \"Easy\"\n",
        "        return cls._instance\n",
        "\n",
        "    def set_volume(self, volume):\n",
        "        self.volume = volume\n",
        "        print(f\"Volume set to {self.volume}\")\n",
        "\n",
        "    def set_difficulty(self, difficulty):\n",
        "        self.difficulty = difficulty\n",
        "        print(f\"Difficulty set to {self.difficulty}\")\n",
        "\n",
        "    def show_settings(self):\n",
        "        print(f\"Current Settings: Volume = {self.volume}, Difficulty = {self.difficulty}\")\n",
        "\n",
        "# Usage\n",
        "settings1 = GameSettings.get_instance()\n",
        "settings1.set_volume(70)\n",
        "settings1.show_settings()\n",
        "\n",
        "settings2 = GameSettings.get_instance()\n",
        "settings2.set_difficulty(\"Hard\")\n",
        "settings2.show_settings()\n",
        "\n",
        "print(settings1 is settings2)  # True"
      ],
      "metadata": {
        "id": "KYPLw0xtOPoV",
        "outputId": "f94f6e87-d1e2-4c01-9768-fb616d78f026",
        "colab": {
          "base_uri": "https://localhost:8080/"
        }
      },
      "execution_count": null,
      "outputs": [
        {
          "output_type": "stream",
          "name": "stdout",
          "text": [
            "Volume set to 70\n",
            "Current Settings: Volume = 70, Difficulty = Easy\n",
            "Difficulty set to Hard\n",
            "Current Settings: Volume = 70, Difficulty = Hard\n",
            "True\n"
          ]
        }
      ]
    },
    {
      "cell_type": "markdown",
      "source": [
        "**Adapter**"
      ],
      "metadata": {
        "id": "RtQ20BrJNclH"
      }
    },
    {
      "cell_type": "code",
      "source": [
        "class OldPaymentSystem:\n",
        "    def get_payment_data(self):\n",
        "        return \"<payment><amount>100</amount></payment>\"  # XML data\n",
        "\n",
        "class NewPaymentProcessor:\n",
        "    def process_payment(self, json_data):\n",
        "        print(f\"Processing JSON: {json_data}\")\n",
        "\n",
        "class PaymentAdapter:\n",
        "    def __init__(self, old_system):\n",
        "        self.old_system = old_system\n",
        "\n",
        "    def convert_to_json(self):\n",
        "        xml_data = self.old_system.get_payment_data()\n",
        "        # Simple conversion (in reality, use an XML-to-JSON parser)\n",
        "        json_data = {\"amount\": 100}  # Simulated JSON\n",
        "        return json_data\n",
        "\n",
        "# Usage\n",
        "old_system = OldPaymentSystem()\n",
        "adapter = PaymentAdapter(old_system)\n",
        "new_processor = NewPaymentProcessor()\n",
        "# new_processor.process_payment(adapter.convert_to_json())\n",
        "new_val = adapter.convert_to_json()\n",
        "new_processor.process_payment(new_val)"
      ],
      "metadata": {
        "colab": {
          "base_uri": "https://localhost:8080/"
        },
        "id": "Qv_j-hXdNusk",
        "outputId": "13e112b9-495a-4a1d-db52-c2c6135aafcd"
      },
      "execution_count": null,
      "outputs": [
        {
          "output_type": "stream",
          "name": "stdout",
          "text": [
            "Processing JSON: {'amount': 100}\n"
          ]
        }
      ]
    },
    {
      "cell_type": "markdown",
      "source": [
        "**Observer**"
      ],
      "metadata": {
        "id": "EFfbUGXHNyyL"
      }
    },
    {
      "cell_type": "code",
      "source": [
        "class WeatherStation:\n",
        "    def __init__(self):\n",
        "        self._observers = [] #[phone, web]\n",
        "        self._temperature = 0\n",
        "\n",
        "    def add_observer(self, observer):\n",
        "        self._observers.append(observer)\n",
        "\n",
        "    def set_temperature(self, temp):\n",
        "        self._temperature = temp\n",
        "        self.notify_observers()\n",
        "\n",
        "    def notify_observers(self):\n",
        "        for observer in self._observers:\n",
        "            observer.update(self._temperature)\n",
        "\n",
        "class PhoneDisplay:\n",
        "    def update(self, temperature):\n",
        "        print(f\"Phone Display: Temperature is {temperature}°C\")\n",
        "\n",
        "class WebDisplay:\n",
        "    def update(self, temperature):\n",
        "        print(f\"Web Display: Temperature is {temperature}°C\")\n",
        "\n",
        "# Usage\n",
        "station = WeatherStation()\n",
        "phone = PhoneDisplay()\n",
        "web = WebDisplay()\n",
        "station.add_observer(phone)\n",
        "station.add_observer(web)\n",
        "station.set_temperature(25)"
      ],
      "metadata": {
        "colab": {
          "base_uri": "https://localhost:8080/"
        },
        "id": "tLPE7NweNzZi",
        "outputId": "b43a3522-06d9-45ec-cc1d-d7559ad48330"
      },
      "execution_count": null,
      "outputs": [
        {
          "output_type": "stream",
          "name": "stdout",
          "text": [
            "Phone Display: Temperature is 25°C\n",
            "Web Display: Temperature is 25°C\n"
          ]
        }
      ]
    }
  ]
}