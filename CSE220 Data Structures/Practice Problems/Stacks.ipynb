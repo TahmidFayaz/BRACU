{
  "nbformat": 4,
  "nbformat_minor": 0,
  "metadata": {
    "colab": {
      "provenance": []
    },
    "kernelspec": {
      "name": "python3",
      "display_name": "Python 3"
    },
    "language_info": {
      "name": "python"
    }
  },
  "cells": [
    {
      "cell_type": "code",
      "source": [
        "#Array Based implementation of Stack\n"
      ],
      "metadata": {
        "id": "K_KgdIjySoNv"
      },
      "execution_count": null,
      "outputs": []
    },
    {
      "cell_type": "code",
      "source": [
        "#Link List Based implementation of Stack\n",
        "\n",
        "class Node:\n",
        "  def __init__(self,elem=None,next=None):\n",
        "    self.elem = elem\n",
        "    self.next = next\n",
        "\n",
        "class Stack:\n",
        "  def __init__(self):\n",
        "    self.__top = None\n",
        "\n",
        "  def push(self,elem):\n",
        "    nn = Node(elem,self.__top)\n",
        "    self.__top = nn\n",
        "\n",
        "  def pop(self):\n",
        "    if self.__top == None:\n",
        "      #print('Stack Underflow')\n",
        "      return None\n",
        "    e = self.__top\n",
        "    self.__top = self.__top.next\n",
        "    e.next = None\n",
        "    return e.elem\n",
        "\n",
        "  def peek(self):\n",
        "    if self.__top == None:\n",
        "      #print('Stack Underflow')\n",
        "      return None\n",
        "    return self.__top.elem\n",
        "\n",
        "  def isEmpty(self):\n",
        "    return self.__top == None\n"
      ],
      "metadata": {
        "id": "LYkzpJL4H0qv"
      },
      "execution_count": null,
      "outputs": []
    },
    {
      "cell_type": "code",
      "source": [
        "#Reverse a string using Stack\n",
        "\n",
        "def reverse(S):\n",
        "    stack=[]\n",
        "    result=\"\"\n",
        "    for i in S:\n",
        "        stack.append(i)\n",
        "\n",
        "    while len(stack)!=0:\n",
        "        result+=stack.pop()\n",
        "\n",
        "\n",
        "    return result"
      ],
      "metadata": {
        "id": "L4OgTeVdMcLz"
      },
      "execution_count": null,
      "outputs": []
    },
    {
      "cell_type": "code",
      "execution_count": null,
      "metadata": {
        "id": "tsAb7A51iB_6"
      },
      "outputs": [],
      "source": [
        "#Parenthesis Checker\n",
        "\n",
        "def ispar(self,x):\n",
        "\n",
        "        stack =[]\n",
        "\n",
        "        for i in x:\n",
        "            if stack.isEmpty():\n",
        "                stack.push(i)\n",
        "            elif i==\")\" and stack.peek()==\"(\":\n",
        "                stack.pop()\n",
        "            elif i==\"]\" and stack.peek()==\"[\":\n",
        "                stack.pop()\n",
        "            elif i==\"}\" and stack.peek()==\"{\":\n",
        "                stack.pop()\n",
        "            else:\n",
        "              stack.append(i)\n",
        "\n",
        "        if not stack.isEmpty():\n",
        "            return False\n",
        "        else:\n",
        "            return True"
      ]
    },
    {
      "cell_type": "code",
      "source": [
        "#Palindrome check\n",
        "def isPalindrome(self, S):\n",
        "\t    stack=[]\n",
        "\t    result=\"\"\n",
        "\t    for i in S:\n",
        "\t        stack.append(i)\n",
        "\n",
        "\t    while len(stack)!=0:\n",
        "\t        result+=stack.pop()\n",
        "\n",
        "\t    if result == S:\n",
        "\t       return 1\n",
        "\t    else:\n",
        "\t       return 0"
      ],
      "metadata": {
        "id": "NeJTU1McMmhL"
      },
      "execution_count": null,
      "outputs": []
    },
    {
      "cell_type": "code",
      "source": [
        "#Number of Students unable to eat lunch\n",
        "\n",
        "class Solution:\n",
        "    def countStudents(self, students: List[int], sandwiches: List[int]):\n",
        "\n",
        "        count = len(students)\n",
        "        result=[]\n",
        "        for i in sandwhiches:\n",
        "          result.push(sandwhiches.pop(i))\n",
        "        while  not result.isEmpty() and students and result.peek() in students:\n",
        "            if(result.peek()!=students[0]):\n",
        "                students.append(students[0])\n",
        "                students.pop(0)\n",
        "            else:\n",
        "                students.pop(0)\n",
        "                result.pop()\n",
        "                count-=1\n",
        "        return count\n"
      ],
      "metadata": {
        "id": "ij2yq_3uIB95",
        "colab": {
          "base_uri": "https://localhost:8080/",
          "height": 332
        },
        "outputId": "0f8dce9d-9166-4a30-fe30-a5752b46829c"
      },
      "execution_count": null,
      "outputs": [
        {
          "output_type": "error",
          "ename": "NameError",
          "evalue": "name 'List' is not defined",
          "traceback": [
            "\u001b[0;31m---------------------------------------------------------------------------\u001b[0m",
            "\u001b[0;31mNameError\u001b[0m                                 Traceback (most recent call last)",
            "\u001b[0;32m<ipython-input-2-5b390f72d2dd>\u001b[0m in \u001b[0;36m<cell line: 3>\u001b[0;34m()\u001b[0m\n\u001b[1;32m      1\u001b[0m \u001b[0;31m#Number of Students unable to eat lunch\u001b[0m\u001b[0;34m\u001b[0m\u001b[0;34m\u001b[0m\u001b[0m\n\u001b[1;32m      2\u001b[0m \u001b[0;34m\u001b[0m\u001b[0m\n\u001b[0;32m----> 3\u001b[0;31m \u001b[0;32mclass\u001b[0m \u001b[0mSolution\u001b[0m\u001b[0;34m:\u001b[0m\u001b[0;34m\u001b[0m\u001b[0;34m\u001b[0m\u001b[0m\n\u001b[0m\u001b[1;32m      4\u001b[0m     \u001b[0;32mdef\u001b[0m \u001b[0mcountStudents\u001b[0m\u001b[0;34m(\u001b[0m\u001b[0mself\u001b[0m\u001b[0;34m,\u001b[0m \u001b[0mstudents\u001b[0m\u001b[0;34m:\u001b[0m \u001b[0mList\u001b[0m\u001b[0;34m[\u001b[0m\u001b[0mint\u001b[0m\u001b[0;34m]\u001b[0m\u001b[0;34m,\u001b[0m \u001b[0msandwiches\u001b[0m\u001b[0;34m:\u001b[0m \u001b[0mList\u001b[0m\u001b[0;34m[\u001b[0m\u001b[0mint\u001b[0m\u001b[0;34m]\u001b[0m\u001b[0;34m)\u001b[0m\u001b[0;34m:\u001b[0m\u001b[0;34m\u001b[0m\u001b[0;34m\u001b[0m\u001b[0m\n\u001b[1;32m      5\u001b[0m \u001b[0;34m\u001b[0m\u001b[0m\n",
            "\u001b[0;32m<ipython-input-2-5b390f72d2dd>\u001b[0m in \u001b[0;36mSolution\u001b[0;34m()\u001b[0m\n\u001b[1;32m      2\u001b[0m \u001b[0;34m\u001b[0m\u001b[0m\n\u001b[1;32m      3\u001b[0m \u001b[0;32mclass\u001b[0m \u001b[0mSolution\u001b[0m\u001b[0;34m:\u001b[0m\u001b[0;34m\u001b[0m\u001b[0;34m\u001b[0m\u001b[0m\n\u001b[0;32m----> 4\u001b[0;31m     \u001b[0;32mdef\u001b[0m \u001b[0mcountStudents\u001b[0m\u001b[0;34m(\u001b[0m\u001b[0mself\u001b[0m\u001b[0;34m,\u001b[0m \u001b[0mstudents\u001b[0m\u001b[0;34m:\u001b[0m \u001b[0mList\u001b[0m\u001b[0;34m[\u001b[0m\u001b[0mint\u001b[0m\u001b[0;34m]\u001b[0m\u001b[0;34m,\u001b[0m \u001b[0msandwiches\u001b[0m\u001b[0;34m:\u001b[0m \u001b[0mList\u001b[0m\u001b[0;34m[\u001b[0m\u001b[0mint\u001b[0m\u001b[0;34m]\u001b[0m\u001b[0;34m)\u001b[0m\u001b[0;34m:\u001b[0m\u001b[0;34m\u001b[0m\u001b[0;34m\u001b[0m\u001b[0m\n\u001b[0m\u001b[1;32m      5\u001b[0m \u001b[0;34m\u001b[0m\u001b[0m\n\u001b[1;32m      6\u001b[0m         \u001b[0mcount\u001b[0m \u001b[0;34m=\u001b[0m \u001b[0mlen\u001b[0m\u001b[0;34m(\u001b[0m\u001b[0mstudents\u001b[0m\u001b[0;34m)\u001b[0m\u001b[0;34m\u001b[0m\u001b[0;34m\u001b[0m\u001b[0m\n",
            "\u001b[0;31mNameError\u001b[0m: name 'List' is not defined"
          ]
        }
      ]
    },
    {
      "cell_type": "code",
      "source": [
        "#Dimond Count\n",
        "def diamond_count(stack,string):\n",
        "  DC=0\n",
        "  for i in string:\n",
        "    if i==\"<\":\n",
        "      stack.push(i)\n",
        "    elif i==\">\":\n",
        "      if not stack.isEmpty():\n",
        "        stack.pop()\n",
        "        DC+=1\n",
        "  return DC\n",
        "\n",
        "\n",
        "\n",
        "print('Test 01')\n",
        "stack = Stack()\n",
        "string = '<..><.<..>> '\n",
        "returned_value = diamond_count(stack,string)\n",
        "print(f'Number of Diamonds: {returned_value}')"
      ],
      "metadata": {
        "colab": {
          "base_uri": "https://localhost:8080/"
        },
        "id": "ipbXksJCV8XA",
        "outputId": "026fbbcc-b95a-455c-94ec-2441a6c0d450"
      },
      "execution_count": null,
      "outputs": [
        {
          "output_type": "stream",
          "name": "stdout",
          "text": [
            "Test 01\n",
            "Number of Diamonds: 3\n"
          ]
        }
      ]
    },
    {
      "cell_type": "code",
      "source": [
        "#Tower of Blocks\n",
        "\n",
        "def remove_block(stack, n):\n",
        "  result=stack()\n",
        "  count=1\n",
        "\n",
        "  while  not st.isEmpty():\n",
        "    if count!=n\n",
        "      result.push(st.pop())\n",
        "      count+=1\n",
        "    else:\n",
        "      st.pop()\n",
        "      break\n",
        "\n",
        "  while not result.isEmpty():\n",
        "    st.push(result.pop())\n",
        "\n",
        "\n",
        "print('Test 01')\n",
        "st = Stack()\n"
      ],
      "metadata": {
        "id": "C9NW3kaqW3nj"
      },
      "execution_count": null,
      "outputs": []
    },
    {
      "cell_type": "code",
      "source": [
        "#Stack Conditional Reverse :\n",
        "def conditional_reverse(stack):\n",
        "  result=stack()\n",
        "  while !st.isEmpty():\n",
        "    if st.peek()!=result.peek()\n",
        "      result.push(st.pop())\n",
        "    else:\n",
        "      st.pop()\n",
        "\n",
        "    return result\n",
        "\n",
        "\n",
        "\n",
        "\n",
        "st=Stack()"
      ],
      "metadata": {
        "id": "nXFvGp18moY8"
      },
      "execution_count": null,
      "outputs": []
    },
    {
      "cell_type": "code",
      "source": [],
      "metadata": {
        "id": "b2u6WJhaLmO6"
      },
      "execution_count": null,
      "outputs": []
    },
    {
      "cell_type": "code",
      "source": [],
      "metadata": {
        "id": "CY556L7pLxo_"
      },
      "execution_count": null,
      "outputs": []
    }
  ]
}