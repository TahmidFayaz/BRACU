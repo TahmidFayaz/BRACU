{
  "nbformat": 4,
  "nbformat_minor": 0,
  "metadata": {
    "colab": {
      "provenance": []
    },
    "kernelspec": {
      "name": "python3",
      "display_name": "Python 3"
    },
    "language_info": {
      "name": "python"
    }
  },
  "cells": [
    {
      "cell_type": "code",
      "execution_count": 13,
      "metadata": {
        "colab": {
          "base_uri": "https://localhost:8080/"
        },
        "id": "Li3IR91yi7vj",
        "outputId": "eea22db0-8b43-43a9-dd89-9093b3d09aca"
      },
      "outputs": [
        {
          "output_type": "stream",
          "name": "stdout",
          "text": [
            "8\n",
            "Index\tValue\n",
            "0 \t 0\n",
            "1 \t 1\n",
            "2 \t 1\n",
            "3 \t 2\n",
            "4 \t 0\n",
            "5 \t 1\n",
            "6 \t 1\n",
            "7 \t 0\n",
            "8 \t 1\n",
            "Value found\n"
          ]
        }
      ],
      "source": [
        "#Key Index Searching and Sorting (Positive numbers )/Count Sort\n",
        "\n",
        "class task1:\n",
        "    def main(args):\n",
        "        A = [5,1,2,6,8,3,3]\n",
        "\n",
        "        max = -99999\n",
        "        for i in range (len(A)):\n",
        "            if max < A[i]:\n",
        "                max = A[i]\n",
        "\n",
        "        print(max)\n",
        "        B = [0] * (max + 1)\n",
        "        for i in range(len(A)):\n",
        "            B[A[i]] += 1\n",
        "\n",
        "        print(\"Index\\tValue\")\n",
        "        for i in range(len(B)):\n",
        "            print(i, \"\\t\", B[i])\n",
        "\n",
        "        key = 8\n",
        "        if B[key] != 0:\n",
        "            print(\"Value found\")\n",
        "        else:\n",
        "            print(\"Value not found\")\n",
        "\n",
        "task1.main([])\n",
        "\n",
        "\n"
      ]
    },
    {
      "cell_type": "code",
      "source": [
        "#Key Index Searching and Sorting (Negative Numbers )/Count Sort\n",
        "class task1:\n",
        "    def main(args):\n",
        "        A = [3,1,-2,-3,1,5,3]\n",
        "\n",
        "        max = -9999999999\n",
        "        min = 9999999999\n",
        "        for i in range(len(A)):\n",
        "            if max < A[i]:\n",
        "                max = A[i]\n",
        "\n",
        "        for i in range(len(A)):\n",
        "            if min > A[i]:\n",
        "               min = A[i]\n",
        "\n",
        "        print(max)\n",
        "        print(min)\n",
        "\n",
        "        x=-1*min\n",
        "\n",
        "        B = [0] * (max + x +1)\n",
        "        for i in range(len(A)):\n",
        "            B[A[i]+x] += 1\n",
        "\n",
        "        print(\"Index\\tValue\")\n",
        "        for i in range(len(B)):\n",
        "            print(i, \"\\t\", B[i])\n",
        "\n",
        "        key = 5\n",
        "        y=key+x\n",
        "        if B[y] != 0:\n",
        "            print(\"Value found\")\n",
        "        else:\n",
        "            print(\"Value not found\")\n",
        "\n",
        "task1.main([])\n",
        "\n"
      ],
      "metadata": {
        "colab": {
          "base_uri": "https://localhost:8080/"
        },
        "id": "fmk8AwUObcGR",
        "outputId": "abedbf41-01ce-4938-8ecd-5545305a931d"
      },
      "execution_count": 14,
      "outputs": [
        {
          "output_type": "stream",
          "name": "stdout",
          "text": [
            "5\n",
            "-3\n",
            "Index\tValue\n",
            "0 \t 1\n",
            "1 \t 1\n",
            "2 \t 0\n",
            "3 \t 0\n",
            "4 \t 2\n",
            "5 \t 0\n",
            "6 \t 2\n",
            "7 \t 0\n",
            "8 \t 1\n",
            "Value found\n"
          ]
        }
      ]
    }
  ]
}