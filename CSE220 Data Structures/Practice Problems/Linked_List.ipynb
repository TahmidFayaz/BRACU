{
  "nbformat": 4,
  "nbformat_minor": 0,
  "metadata": {
    "colab": {
      "provenance": []
    },
    "kernelspec": {
      "name": "python3",
      "display_name": "Python 3"
    },
    "language_info": {
      "name": "python"
    }
  },
  "cells": [
    {
      "cell_type": "code",
      "execution_count": null,
      "metadata": {
        "id": "hcF3J6owW09j"
      },
      "outputs": [],
      "source": [
        "#Node Class Design\n",
        "class Node:\n",
        "  def __init__(self,e,n):\n",
        "    self.element=e\n",
        "    self.next=n\n"
      ]
    },
    {
      "cell_type": "code",
      "source": [
        "#Creating a list\n",
        "def createList(a):\n",
        "  head=Node(a[0],None)\n",
        "  tail= head\n",
        "  for i in range(1,len(a)):\n",
        "    n=Node(a[i],None)\n",
        "    tail.next=n\n",
        "    tail=tail.next\n",
        "  return head"
      ],
      "metadata": {
        "id": "xGJeGM5hrcyc"
      },
      "execution_count": null,
      "outputs": []
    },
    {
      "cell_type": "code",
      "source": [
        "#Iteration over a linked list\n",
        "def iteration(head):\n",
        "  temp=head\n",
        "  while temp !=None:\n",
        "    print(temp.element)\n",
        "    temp= temp.next"
      ],
      "metadata": {
        "id": "Xr4I8UP7wcPI"
      },
      "execution_count": null,
      "outputs": []
    },
    {
      "cell_type": "code",
      "source": [
        "#Number of Nodes present in a linked list/Count\n",
        "def count(head):\n",
        "  count=0\n",
        "  temp=head\n",
        "  while temp != None:\n",
        "    count+=1\n",
        "    temp=temp.next\n",
        "  return count"
      ],
      "metadata": {
        "id": "uktAytEAxXle"
      },
      "execution_count": null,
      "outputs": []
    },
    {
      "cell_type": "code",
      "source": [
        "#Getting element of an specific index\n",
        "\n",
        "def element_At(head,idx):\n",
        "  count=0\n",
        "  temp=head\n",
        "  obj=None\n",
        "  while temp != None:\n",
        "    if count == idx:\n",
        "      obj=temp.element\n",
        "      break\n",
        "    temp=temp.next\n",
        "    count+=1\n",
        "  if obj==None:\n",
        "    print(\"Invalid index\")\n",
        "  return obj"
      ],
      "metadata": {
        "id": "02DOzCYjyowf"
      },
      "execution_count": null,
      "outputs": []
    },
    {
      "cell_type": "code",
      "source": [
        "#Inserting an element into a list\n",
        "\n",
        "def insert(head,elem,idx):\n",
        "  total_nodes=count(head)\n",
        "  if idx==0: # Inserting at the beginning\n",
        "    n=Node(elem,head)\n",
        "    head=n\n",
        "\n",
        "  elif idx >=1 and idx < total_nodes # Inserting at any place in the middle\n",
        "    n = Node (elem,head)\n",
        "    n1= nodeAt(head,idx-1)\n",
        "    n2= nodeAt(head,idx)\n",
        "    n.next=n2\n",
        "    n1.next=n\n",
        "\n",
        "  elif idx == total_nodes  # Inserting at the end\n",
        "    n = Node(elem,None)\n",
        "    n1= nodeAt(head,total_nodes-1)\n",
        "    n1.next=n\n",
        "\n",
        "  else:\n",
        "    print \"Invalid Index\"\n",
        "  return head"
      ],
      "metadata": {
        "id": "r7KhcWkC45F9"
      },
      "execution_count": null,
      "outputs": []
    },
    {
      "cell_type": "code",
      "source": [
        "#Write a function that moves the last node to the front in a given singly linked list\n",
        "\n",
        "class Solution:\n",
        "    def moveToFront(self, head):\n",
        "\n",
        "        if head.next==None:\n",
        "            return head\n",
        "\n",
        "        current=head\n",
        "        while current.next.next!=None:\n",
        "            current=current.next\n",
        "\n",
        "        last=current.next\n",
        "        last.next=head\n",
        "        current.next=None\n",
        "\n",
        "        return last"
      ],
      "metadata": {
        "id": "1o2MkaXa0S8Y"
      },
      "execution_count": null,
      "outputs": []
    },
    {
      "cell_type": "code",
      "source": [
        "#Number Beads\n",
        "def rotation_times(head):\n",
        "  rotate= 0\n",
        "  min = head.elem\n",
        "  while head.next != None:\n",
        "    head= head.next\n",
        "    if head.elem > min:\n",
        "      rotate += 1\n",
        "      return rotate\n",
        "    rotate += 1\n",
        "    min = head.elem\n",
        "  return 0"
      ],
      "metadata": {
        "id": "_iEn-nAzL70Y"
      },
      "execution_count": null,
      "outputs": []
    },
    {
      "cell_type": "code",
      "source": [
        "#CTF\n",
        "def shuffle_on_song(head):\n",
        "  list_n = Node(head.elem)\n",
        "  list_n_tail = list_n\n",
        "  tail = head\n",
        "  while tail != None:\n",
        "    while tail != None:\n",
        "      if ord(tail.elem) % 2 == 0:\n",
        "        list_n_tail.next = Node(tail.elem)\n",
        "        list_n_tail = list_n_tail.next\n",
        "      tail = tail.next\n",
        "    tail = head\n",
        "    while tail != None:\n",
        "      if ord(tail.elem) % 2 != 0:\n",
        "        list_n_tail.next = Node(tail.elem)\n",
        "        list_n_tail = list_n_tail.next\n",
        "      tail = tail.next\n",
        "  return list_n.next"
      ],
      "metadata": {
        "id": "cSvmd5MfeOrZ"
      },
      "execution_count": null,
      "outputs": []
    },
    {
      "cell_type": "code",
      "source": [
        "#Shuffle Song\n",
        "\n",
        "def shuffle_on_song(head):\n",
        "  list_n = Node(head.elem)\n",
        "  list_n_tail = list_n\n",
        "  tail = head\n",
        "  while tail != None:\n",
        "    while tail != None:\n",
        "      if ord(tail.elem) % 2 == 0:\n",
        "        list_n_tail.next = Node(tail.elem)\n",
        "        list_n_tail = list_n_tail.next\n",
        "      tail = tail.next\n",
        "    tail = head\n",
        "    while tail != None:\n",
        "      if ord(tail.elem) % 2 != 0:\n",
        "        list_n_tail.next = Node(tail.elem)\n",
        "        list_n_tail = list_n_tail.next\n",
        "      tail = tail.next\n",
        "  return list_n.next"
      ],
      "metadata": {
        "id": "QLv_m8kMoHNB"
      },
      "execution_count": null,
      "outputs": []
    },
    {
      "cell_type": "markdown",
      "source": [
        "DOUBLY LINKED LIST"
      ],
      "metadata": {
        "id": "jbm7rR7QbTu8"
      }
    },
    {
      "cell_type": "code",
      "source": [
        "class DoublyNode:\n",
        "\tdef __init__(self, elem, next, prev):\n",
        "\t\tself.elem = elem\n",
        "\t\tself.next = next # To store the next node’s reference.\n",
        "\t\tself.prev = prev # To store the previous node’s reference.\n",
        "\n"
      ],
      "metadata": {
        "id": "lzghvOGicQt8"
      },
      "execution_count": null,
      "outputs": []
    },
    {
      "cell_type": "code",
      "source": [
        "#Creating a dummy head and DLL\n",
        "\n",
        "def createList(a):\n",
        "  DH=DoublyNode(None,None,None)\n",
        "  DH.next=DH\n",
        "  DH.prev=DH\n",
        "  tail=DH\n",
        "\n",
        "  for i in range(len(a)):\n",
        "    n=DoublyNode(a[i],DH,tail)\n",
        "    tail.next=n\n",
        "    tail=tail.next\n",
        "    DH.prev=tail\n",
        "  return DH\n"
      ],
      "metadata": {
        "id": "sjHpr5IVbTbh"
      },
      "execution_count": null,
      "outputs": []
    },
    {
      "cell_type": "code",
      "source": [
        "#DLL palindrome or not\n",
        "# Function to check if list is palindrome or not\n",
        "def isPalindrome(left):\n",
        "\n",
        "    if left == None:\n",
        "        return True\n",
        "\n",
        "    # Find rightmost node\n",
        "    right = left\n",
        "    while right.next != None:\n",
        "        right = right.next\n",
        "\n",
        "    while left != right:\n",
        "\n",
        "        if left.data != right.data:\n",
        "            return False\n",
        "\n",
        "        left = left.next\n",
        "        right = right.prev\n",
        "\n",
        "    return True\n",
        "\n"
      ],
      "metadata": {
        "id": "udui8Oht3LIZ"
      },
      "execution_count": null,
      "outputs": []
    },
    {
      "cell_type": "code",
      "source": [
        "#traverse in a circular list\n",
        "\n",
        "def traverse(self):\n",
        "        if not self.head:\n",
        "            return\n",
        "        current = self.head\n",
        "        while True:\n",
        "            print(current.data, end=\" -> \")\n",
        "            current = current.next\n",
        "            if current == self.head:\n",
        "                break"
      ],
      "metadata": {
        "id": "LyvwzVbW4ItW"
      },
      "execution_count": null,
      "outputs": []
    },
    {
      "cell_type": "code",
      "source": [
        "#DLL reverse\n"
      ],
      "metadata": {
        "id": "q6DB-qvM6Bj2"
      },
      "execution_count": null,
      "outputs": []
    },
    {
      "cell_type": "code",
      "source": [
        "#Largest Node"
      ],
      "metadata": {
        "id": "TRJENYv66II8"
      },
      "execution_count": null,
      "outputs": []
    },
    {
      "cell_type": "code",
      "source": [
        "#Rotation by left"
      ],
      "metadata": {
        "id": "Sb1w5gcH7Uli"
      },
      "execution_count": null,
      "outputs": []
    },
    {
      "cell_type": "code",
      "source": [
        "#Rotate by right"
      ],
      "metadata": {
        "id": "VykgBGBB7cGs"
      },
      "execution_count": null,
      "outputs": []
    }
  ]
}