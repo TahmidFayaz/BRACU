{
  "nbformat": 4,
  "nbformat_minor": 0,
  "metadata": {
    "colab": {
      "provenance": []
    },
    "kernelspec": {
      "name": "python3",
      "display_name": "Python 3"
    },
    "language_info": {
      "name": "python"
    }
  },
  "cells": [
    {
      "cell_type": "code",
      "execution_count": null,
      "metadata": {
        "colab": {
          "base_uri": "https://localhost:8080/"
        },
        "id": "JbZwSVQc682Z",
        "outputId": "6b96933c-e917-4dc1-8b8e-de1825becda7"
      },
      "outputs": [
        {
          "output_type": "stream",
          "name": "stdout",
          "text": [
            "34 56 78 90 99 101 21 34 67 \n"
          ]
        }
      ],
      "source": [
        "#Row wise iteration\n",
        "\n",
        "import numpy as np\n",
        "\n",
        "x=np.array([[34,56,78],[90,99,101],[21,34,67]])\n",
        "\n",
        "def print_row(x):\n",
        "  row,col=x.shape\n",
        "  for i in range(row):\n",
        "    for j in range(col):\n",
        "      print(x[i][j],end=\" \")\n",
        "  print()\n",
        "\n",
        "\n",
        "print_row(x)"
      ]
    },
    {
      "cell_type": "code",
      "source": [
        "#Column wise iteration\n",
        "\n",
        "\n",
        "import numpy as np\n",
        "\n",
        "x=np.array([[34,56,78],[90,99,101],[21,34,67]])\n",
        "\n",
        "def print_row(x):\n",
        "  row,col=x.shape\n",
        "  for i in range(row):\n",
        "    for j in range(col):\n",
        "      print(x[j][i],end=\" \")\n",
        "  print()\n",
        "\n",
        "\n",
        "print_row(x)\n"
      ],
      "metadata": {
        "colab": {
          "base_uri": "https://localhost:8080/"
        },
        "id": "wn1TsZai93Cv",
        "outputId": "04252fe1-d13d-4658-db27-d67c9bc9f328"
      },
      "execution_count": null,
      "outputs": [
        {
          "output_type": "stream",
          "name": "stdout",
          "text": [
            "34 90 21 56 99 34 78 101 67 \n"
          ]
        }
      ]
    },
    {
      "cell_type": "code",
      "source": [
        "#Sum of all elements in a 2D matrix:\n",
        "import numpy as np\n",
        "x=np.array([[34,56,78],[90,99,101],[21,34,67]])\n",
        "\n",
        "def sum(x):\n",
        "  total=0\n",
        "  row,col=x.shape\n",
        "  for i in range(row):\n",
        "    for j in range (col):\n",
        "      total+=x[i][j]\n",
        "\n",
        "  return total\n",
        "\n",
        "answer=sum(x)\n",
        "print(answer)"
      ],
      "metadata": {
        "colab": {
          "base_uri": "https://localhost:8080/"
        },
        "id": "l8qa3DYN_GRy",
        "outputId": "0bc57fc0-dd9a-43a3-a6b7-698225bb55bc"
      },
      "execution_count": null,
      "outputs": [
        {
          "output_type": "stream",
          "name": "stdout",
          "text": [
            "580\n"
          ]
        }
      ]
    },
    {
      "cell_type": "code",
      "source": [
        "#Row-Wise matrix summation\n",
        "\n",
        "import numpy as np\n",
        "x=np.array([[34,56,78],[90,99,101],[21,34,67]])\n",
        "\n",
        "def row_wise(x):\n",
        "  row,col=x.shape\n",
        "  resulting =np.zeros((row,1),int)\n",
        "  for i in range(row):\n",
        "    for j in range(col):\n",
        "      resulting[i][0] += x[i][j]\n",
        "\n",
        "  return resulting\n",
        "\n",
        "ans=row_wise(x)\n",
        "print(ans)\n"
      ],
      "metadata": {
        "colab": {
          "base_uri": "https://localhost:8080/"
        },
        "id": "a6hmCPrq4dIk",
        "outputId": "05003909-d235-418e-cbe1-87560ff6541a"
      },
      "execution_count": null,
      "outputs": [
        {
          "output_type": "stream",
          "name": "stdout",
          "text": [
            "[[168]\n",
            " [290]\n",
            " [122]]\n"
          ]
        }
      ]
    },
    {
      "cell_type": "code",
      "source": [
        "#Col-wise sum\n",
        "import numpy as np\n",
        "x=np.array([[34,56,78],[90,99,101],[21,34,67]])\n",
        "\n",
        "def col_wise(x):\n",
        "  row,col=x.shape\n",
        "  resulting =np.zeros((1,col),int)\n",
        "  for i in range(row):\n",
        "    for j in range(col):\n",
        "      resulting[0][j] += x[i][j]\n",
        "\n",
        "  return resulting\n",
        "\n",
        "ans=col_wise(x)\n",
        "print(ans)\n"
      ],
      "metadata": {
        "colab": {
          "base_uri": "https://localhost:8080/"
        },
        "id": "5frgLiom63Y8",
        "outputId": "7e50a4aa-0aef-43e2-a554-27fc09ec5177"
      },
      "execution_count": null,
      "outputs": [
        {
          "output_type": "stream",
          "name": "stdout",
          "text": [
            "[[145 189 246]]\n"
          ]
        }
      ]
    },
    {
      "cell_type": "code",
      "source": [
        "#Matrix Swapping\n",
        "# Swap the cols of a matrix (reverse,(2 pointer approach))\n",
        "# Reverse col-wise\n",
        "\n",
        "import numpy as np\n",
        "x=np.array([[34,56,78],[90,99,101]])\n",
        "\n",
        "def swap_cols(x):\n",
        "  row,col=x.shape\n",
        "  for i in range(row):\n",
        "    for j in range (col//2):\n",
        "      x[i][j],x[i][col-1-j]=x[i][col-1-j],x[i][j]\n",
        "\n",
        "  return x\n",
        "\n",
        "ans=swap_cols(x)\n",
        "print(ans)\n"
      ],
      "metadata": {
        "colab": {
          "base_uri": "https://localhost:8080/"
        },
        "id": "orcxk3Du7K2F",
        "outputId": "acece126-9715-46fb-94f1-e2ab01b7875b"
      },
      "execution_count": null,
      "outputs": [
        {
          "output_type": "stream",
          "name": "stdout",
          "text": [
            "[[ 78  56  34]\n",
            " [101  99  90]]\n"
          ]
        }
      ]
    },
    {
      "cell_type": "code",
      "source": [
        "#Swap the rows\n",
        "import numpy as np\n",
        "x=np.array([[34,56,78],[90,99,101],[21,34,67]])\n",
        "\n",
        "def swap_cols(x):\n",
        "  row,col=x.shape\n",
        "  for i in range(row//2):\n",
        "    for j in range (col):\n",
        "      x[i][j],x[row-1-i][j]=x[row-i-1][j],x[i][j]\n",
        "\n",
        "  return x\n",
        "\n",
        "ans=swap_cols(x)\n",
        "print(ans)\n"
      ],
      "metadata": {
        "colab": {
          "base_uri": "https://localhost:8080/"
        },
        "id": "uOox3WHwlRfR",
        "outputId": "39021903-bb3c-4c32-b1f6-d1982b0107f5"
      },
      "execution_count": null,
      "outputs": [
        {
          "output_type": "stream",
          "name": "stdout",
          "text": [
            "[[ 21  34  67]\n",
            " [ 90  99 101]\n",
            " [ 34  56  78]]\n"
          ]
        }
      ]
    },
    {
      "cell_type": "code",
      "source": [
        "#Transpose\n",
        "import numpy as np\n",
        "x=np.array([[1,2,3],[4,5,6],[7,8,9]])\n",
        "\n",
        "\n",
        "def Transpose(x):\n",
        "  row,col=x.shape\n",
        "  result=np.zeros((row,col))\n",
        "  for i in range(row):\n",
        "    for j in range(col):\n",
        "      result[i][j]=x[j][i]\n",
        "\n",
        "  return result\n",
        "\n",
        "ans=Transpose(x)\n",
        "print(ans)"
      ],
      "metadata": {
        "colab": {
          "base_uri": "https://localhost:8080/"
        },
        "id": "DkH9cEd0mEmJ",
        "outputId": "50ae2fa7-9e66-4c1c-af08-581b9a19cec6"
      },
      "execution_count": null,
      "outputs": [
        {
          "output_type": "stream",
          "name": "stdout",
          "text": [
            "[[1. 4. 7.]\n",
            " [2. 5. 8.]\n",
            " [3. 6. 9.]]\n"
          ]
        }
      ]
    },
    {
      "cell_type": "code",
      "source": [
        "#Primary Diagonal Sum\n",
        "\n",
        "import numpy as np\n",
        "x=np.array([[1,2,3],[4,5,6],[7,8,9]])\n",
        "\n",
        "def PD_Sum(x):\n",
        "  total=0\n",
        "  row,col=x.shape\n",
        "  for i in range(row):\n",
        "    for j in range(col):\n",
        "      if i==j:\n",
        "        total+=x[i][j]\n",
        "  return total\n",
        "\n",
        "\n",
        "ans=PD_Sum(x)\n",
        "print(ans)\n"
      ],
      "metadata": {
        "colab": {
          "base_uri": "https://localhost:8080/"
        },
        "id": "c6tniaeqcl0D",
        "outputId": "ed6f70b3-4bd7-461f-8199-2ba5994e676a"
      },
      "execution_count": null,
      "outputs": [
        {
          "output_type": "stream",
          "name": "stdout",
          "text": [
            "15\n"
          ]
        }
      ]
    },
    {
      "cell_type": "code",
      "source": [
        "#Secondary Diagonal Sum\n",
        "import numpy as np\n",
        "x=np.array([[21,35,11],[49,56,81],[7,6,5]])\n",
        "\n",
        "def SD_Sum(x):\n",
        "  total=0\n",
        "  row,col=x.shape\n",
        "  for i in range(row):\n",
        "    for j in range(col):\n",
        "      if i+j==row-1:\n",
        "        total+=x[i][j]\n",
        "\n",
        "  return total\n",
        "\n",
        "\n",
        "ans=SD_Sum(x)\n",
        "print(ans)"
      ],
      "metadata": {
        "colab": {
          "base_uri": "https://localhost:8080/"
        },
        "id": "3KA2koWOgT3T",
        "outputId": "4d983bec-a85a-4799-8b89-1f5af956a9ee"
      },
      "execution_count": null,
      "outputs": [
        {
          "output_type": "stream",
          "name": "stdout",
          "text": [
            "74\n"
          ]
        }
      ]
    },
    {
      "cell_type": "code",
      "source": [
        "#ZigZag Traversal\n",
        "import numpy as np\n",
        "def walk_zigzag(floor):\n",
        "\n",
        "  row,col=floor.shape\n",
        "  for j in range(col):\n",
        "    if j%2==0:\n",
        "      for i in range(row):\n",
        "        if(i+j)%2==0:\n",
        "          print(floor[i][j],end=\" \")\n",
        "    else:\n",
        "      for i in range(row-1,-1,-1):\n",
        "        if(i+j)%2==0:\n",
        "          print(floor[i][j],end=\" \")\n",
        "    print()\n",
        "\n",
        "\n",
        "floor = np.array([[ '3' , '8' , '4' , '6' , '1'],\n",
        "                  ['7' , '2' , '1' , '9' , '3'],\n",
        "                  ['9' , '0' , '7' , '5' , '8'],\n",
        "                  ['2' , '1' , '3' , '4' , '0'],\n",
        "                  ['1' , '4' , '2' , '8' , '6']]\n",
        "                )\n",
        "\n",
        "print('Walking Sequence:')\n",
        "walk_zigzag(floor)\n"
      ],
      "metadata": {
        "id": "ouwSCS-rjZ2t",
        "colab": {
          "base_uri": "https://localhost:8080/"
        },
        "outputId": "63881a40-3c34-4c8b-a49c-7054b6c3cd22"
      },
      "execution_count": null,
      "outputs": [
        {
          "output_type": "stream",
          "name": "stdout",
          "text": [
            "Walking Sequence:\n",
            "3 9 1 \n",
            "1 2 \n",
            "4 7 2 \n",
            "4 9 \n",
            "1 8 6 \n"
          ]
        }
      ]
    },
    {
      "cell_type": "code",
      "source": [
        "\n",
        "#Wall Up Trost District\n",
        "\n",
        "\n",
        "def create_fence(district, depth):\n",
        "    district_row, district_col = district.shape\n",
        "    out = np.full((district_row + (depth*2), district_col + (depth*2)), 8, dtype = int)\n",
        "    for i in range(district_row):\n",
        "      for j in range(district_col):\n",
        "        out[i + depth][j + depth] = district[i][j]\n",
        "    return out\n"
      ],
      "metadata": {
        "id": "pLwvwO6323XP"
      },
      "execution_count": null,
      "outputs": []
    },
    {
      "cell_type": "code",
      "source": [
        "#Crows vs Cats\n",
        "\n",
        "def strength_difference(clubroom):\n",
        "  strength_diff = np.zeros(100, dtype = int)\n",
        "  m = len(clubroom)\n",
        "  strength_diff = np.zeros((m*(m-1))//2, dtype = int)\n",
        "  n = 0\n",
        "  for i in range(1, m):\n",
        "    for j in range(i):\n",
        "      strength_diff[n] = clubroom[j][i] - clubroom[i][j]\n",
        "      n += 1\n",
        "  return strength_diff"
      ],
      "metadata": {
        "id": "JzXWQTsC3DmX"
      },
      "execution_count": null,
      "outputs": []
    },
    {
      "cell_type": "code",
      "source": [
        "#ATM Triangle\n",
        "\n",
        "def strength_difference(clubroom):\n",
        "  strength_diff = np.zeros(100, dtype = int)\n",
        "  m = len(clubroom)\n",
        "  strength_diff = np.zeros((m*(m-1))//2, dtype = int)\n",
        "  n = 0\n",
        "  for i in range(1, m):\n",
        "    for j in range(i):\n",
        "      strength_diff[n] = clubroom[j][i] - clubroom[i][j]\n",
        "      n += 1\n",
        "  return strength_diff"
      ],
      "metadata": {
        "id": "aHnE4Ni540a4"
      },
      "execution_count": null,
      "outputs": []
    },
    {
      "cell_type": "code",
      "source": [
        "#Trace the Bot\n",
        "def moving_around(cmds):\n",
        "  grid = np.full((7, 7), '.')\n",
        "  m, n = 3, 3\n",
        "  grid[m][n] = '-'\n",
        "  movements = np.array([\n",
        "    [(-2, -2), (0, -1)],\n",
        "    [(-2, -2), (0, 1)],\n",
        "    [(-2, -2), (-1, 0)],\n",
        "    [(-2, -2), (1, 0)],\n",
        "    [(-2, 2), (0, -1)],\n",
        "    [(-2, 2), (0, 1)],\n",
        "    [(-2, 2), (-1, 0)],\n",
        "    [(-2, 2), (1, 0)],\n",
        "    [(2, -2), (0, -1)],\n",
        "    [(2, -2), (0, 1)],\n",
        "    [(2, -2), (-1, 0)],\n",
        "    [(2, -2), (1, 0)]\n",
        "  ])\n",
        "\n",
        "  for move in cmds:\n",
        "    temp_m = m\n",
        "    temp_n = n\n",
        "    for m1, n1 in movements[move - 1]:\n",
        "      new_m = temp_m + m1\n",
        "      new_n = temp_n + n1\n",
        "      if new_m >= 0 and new_m < 7 and new_n >= 0 and new_n < 7:\n",
        "        temp_m = new_m\n",
        "        temp_n = new_n\n",
        "      else:\n",
        "        break\n",
        "    else:\n",
        "      m = temp_m\n",
        "      n = temp_n\n",
        "      grid[m][n] = '*'\n",
        "\n",
        "  grid[m][n] = '/'\n",
        "  return grid"
      ],
      "metadata": {
        "id": "y3Ha4SHQ6QFN"
      },
      "execution_count": null,
      "outputs": []
    }
  ]
}