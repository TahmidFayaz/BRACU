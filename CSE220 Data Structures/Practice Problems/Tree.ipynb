{
  "nbformat": 4,
  "nbformat_minor": 0,
  "metadata": {
    "colab": {
      "provenance": []
    },
    "kernelspec": {
      "name": "python3",
      "display_name": "Python 3"
    },
    "language_info": {
      "name": "python"
    }
  },
  "cells": [
    {
      "cell_type": "code",
      "execution_count": null,
      "metadata": {
        "colab": {
          "base_uri": "https://localhost:8080/"
        },
        "id": "p9ikWz5mbeyE",
        "outputId": "9de953e2-8413-412e-81dd-c1b736244cb4"
      },
      "outputs": [
        {
          "output_type": "stream",
          "name": "stdout",
          "text": [
            "Height of the binary tree: 2\n"
          ]
        }
      ],
      "source": [
        "\n",
        "\n",
        "class Node:\n",
        "    def __init__(self, value):\n",
        "        self.value = value\n",
        "        self.left = None\n",
        "        self.right = None\n",
        "\n",
        "def tree_height(root):\n",
        "    if root is None:\n",
        "        return -1  # Height of an empty tree is -1\n",
        "    else:\n",
        "        # Recursively calculate the height of the left and right subtrees\n",
        "        left_height = tree_height(root.left)\n",
        "        right_height = tree_height(root.right)\n",
        "\n",
        "        # Height of the tree is the maximum height between left and right subtrees, plus 1 for the root node\n",
        "        return max(left_height, right_height)+1\n",
        "\n",
        "# Example usage:\n",
        "# Constructing a sample binary tree\n",
        "root = Node(1)\n",
        "root.left = Node(2)\n",
        "root.right = Node(3)\n",
        "root.left.left = Node(4)\n",
        "root.left.right = Node(5)\n",
        "\n",
        "# Calculate and print the height of the binary tree\n",
        "print(\"Height of the binary tree:\", tree_height(root))\n"
      ]
    },
    {
      "cell_type": "code",
      "source": [
        "def inorder(root):\n",
        "  if root !=None:\n",
        "    inorder(root.left)\n",
        "    print(root.elem,end=\" \")\n",
        "    inorder(root.right)"
      ],
      "metadata": {
        "id": "9NuDryhI_js8"
      },
      "execution_count": null,
      "outputs": []
    },
    {
      "cell_type": "code",
      "source": [
        "def pre-order(root):\n",
        "  if root!=None:\n",
        "    print(root.elem)\n",
        "    pre-order(root.left)\n",
        "    pre-order(root.right)"
      ],
      "metadata": {
        "id": "oZVYIiUN_7Z2"
      },
      "execution_count": null,
      "outputs": []
    },
    {
      "cell_type": "code",
      "source": [
        "def postorder(root):\n",
        "  if root!=None:\n",
        "    postorder(root.left)\n",
        "    postorder(root.right)\n",
        "    print(root.elem)\n"
      ],
      "metadata": {
        "id": "uedfZeH2APCT"
      },
      "execution_count": null,
      "outputs": []
    },
    {
      "cell_type": "code",
      "source": [
        "#Two Trees are identical or not\n",
        "\n",
        "class TreeNode:\n",
        "    def __init__(self, value):\n",
        "        self.val = value\n",
        "        self.left = None\n",
        "        self.right = None\n",
        "\n",
        "def isIdentical(root1, root2):\n",
        "    if root1 is None and root2 is None:\n",
        "        return True\n",
        "    if root1 is None or root2 is None:\n",
        "        return False\n",
        "\n",
        "    # Check if the current nodes are equal\n",
        "    if root1.val != root2.val:\n",
        "        return False\n",
        "\n",
        "    # Recursively check left and right subtrees\n",
        "    return isIdentical(root1.left, root2.left) and isIdentical(root1.right, root2.right)\n"
      ],
      "metadata": {
        "id": "2DmWyibkBbnJ"
      },
      "execution_count": null,
      "outputs": []
    },
    {
      "cell_type": "code",
      "source": [
        "#Symmetrical\n",
        "\n",
        "class Solution(object):\n",
        "    def isSymmetric(self, root):\n",
        "        # Special case...\n",
        "        if not root:\n",
        "            return true;\n",
        "        # Return the function recursively...\n",
        "        return self.isSame(root.left, root.right)\n",
        "    # A tree is called symmetric if the left subtree must be a mirror reflection of the right subtree...\n",
        "    def isSame(self, leftroot, rightroot):\n",
        "        # If both root nodes are null pointers, return true...\n",
        "        if leftroot == None and rightroot == None:\n",
        "            return True\n",
        "        # If exactly one of them is a null node, return false...\n",
        "        if leftroot == None or rightroot == None:\n",
        "            return False\n",
        "        # If root nodes haven't same value, return false...\n",
        "        if leftroot.val != rightroot.val:\n",
        "            return False\n",
        "        # Return true if the values of root nodes are same and left as well as right subtrees are symmetric...\n",
        "        return self.isSame(leftroot.left, rightroot.right) and self.isSame(leftroot.right, rightroot.left)"
      ],
      "metadata": {
        "id": "nadO8oZKy3hj"
      },
      "execution_count": null,
      "outputs": []
    },
    {
      "cell_type": "code",
      "source": [
        "#Ancestor\n",
        "\n",
        "def print_ancestors(root, target):\n",
        "    if root is None:\n",
        "        return False  # Node not found\n",
        "\n",
        "    if root.val == target:\n",
        "        return True  # Target node found\n",
        "\n",
        "    # If target is in left subtree or right subtree\n",
        "    if (print_ancestors(root.left, target) or\n",
        "            print_ancestors(root.right, target)):\n",
        "        print(root.val)\n",
        "        return True\n",
        "\n",
        "    return False  # Target not found in either subtree\n"
      ],
      "metadata": {
        "id": "timbqJLs-bkA"
      },
      "execution_count": null,
      "outputs": []
    },
    {
      "cell_type": "code",
      "source": [
        "#skewedBinaryTree\n",
        "\n",
        "def isSkewedBT(root):\n",
        "\n",
        "    # check if node is None or is a leaf node\n",
        "    if (root == None or (root.left == None and\n",
        "                         root.right == None)):\n",
        "        return 1\n",
        "\n",
        "    # check if node has two children if\n",
        "    # yes, return false\n",
        "    if (root.left and root.right):\n",
        "        return 0\n",
        "    if (root.left) :\n",
        "        return isSkewedBT(root.left)\n",
        "    return isSkewedBT(root.right)"
      ],
      "metadata": {
        "id": "e0_awT3P41rk"
      },
      "execution_count": null,
      "outputs": []
    },
    {
      "cell_type": "code",
      "source": [
        "# Python program to evaluate expression tree\n",
        "\n",
        "# Class to represent the nodes of syntax tree\n",
        "\n",
        "\n",
        "class node:\n",
        "\tdef __init__(self, value):\n",
        "\t\tself.left = None\n",
        "\t\tself.data = value\n",
        "\t\tself.right = None\n",
        "\n",
        "# This function receives a node of the syntax tree\n",
        "# and recursively evaluate it\n",
        "\n",
        "\n",
        "def evaluateExpressionTree(root):\n",
        "\n",
        "\t# empty tree\n",
        "\tif root is None:\n",
        "\t\treturn 0\n",
        "\n",
        "\t# leaf node\n",
        "\tif root.left is None and root.right is None:\n",
        "\t\treturn int(root.data)\n",
        "\n",
        "\t# evaluate left tree\n",
        "\tleft_sum = evaluateExpressionTree(root.left)\n",
        "\n",
        "\t# evaluate right tree\n",
        "\tright_sum = evaluateExpressionTree(root.right)\n",
        "\n",
        "\t# check which operation to apply\n",
        "\tif root.data == '+':\n",
        "\t\treturn left_sum + right_sum\n",
        "\n",
        "\telif root.data == '-':\n",
        "\t\treturn left_sum - right_sum\n",
        "\n",
        "\telif root.data == '*':\n",
        "\t\treturn left_sum * right_sum\n",
        "\n",
        "\telse:\n",
        "\t\treturn left_sum // right_sum\n",
        "\n",
        "\n",
        "\n"
      ],
      "metadata": {
        "id": "vqz6F0BeQ7oP"
      },
      "execution_count": null,
      "outputs": []
    },
    {
      "cell_type": "code",
      "source": [],
      "metadata": {
        "id": "HMUWITTmRCD0"
      },
      "execution_count": null,
      "outputs": []
    }
  ]
}