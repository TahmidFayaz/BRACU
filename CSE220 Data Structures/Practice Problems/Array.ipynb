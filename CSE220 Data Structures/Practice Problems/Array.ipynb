{
  "cells": [
    {
      "cell_type": "code",
      "execution_count": null,
      "metadata": {
        "colab": {
          "background_save": true
        },
        "id": "JS-qKegxkL2Q",
        "outputId": "812c2788-2174-41b3-a742-8f6fe90a7c60"
      },
      "outputs": [
        {
          "name": "stdout",
          "output_type": "stream",
          "text": [
            "Collecting fhm-unittest\n",
            "  Downloading fhm_unittest-1.0.1-py3-none-any.whl (2.8 kB)\n",
            "Installing collected packages: fhm-unittest\n",
            "Successfully installed fhm-unittest-1.0.1\n",
            "Collecting fuzzywuzzy\n",
            "  Downloading fuzzywuzzy-0.18.0-py2.py3-none-any.whl (18 kB)\n",
            "Installing collected packages: fuzzywuzzy\n",
            "Successfully installed fuzzywuzzy-0.18.0\n"
          ]
        },
        {
          "name": "stderr",
          "output_type": "stream",
          "text": [
            "/usr/local/lib/python3.10/dist-packages/fuzzywuzzy/fuzz.py:11: UserWarning: Using slow pure-python SequenceMatcher. Install python-Levenshtein to remove this warning\n",
            "  warnings.warn('Using slow pure-python SequenceMatcher. Install python-Levenshtein to remove this warning')\n"
          ]
        }
      ],
      "source": [
        "\n",
        "import numpy as np\n"
      ]
    },
    {
      "cell_type": "code",
      "execution_count": null,
      "metadata": {
        "colab": {
          "base_uri": "https://localhost:8080/"
        },
        "id": "7Hh76r7Li60z",
        "outputId": "a71ba287-8e5d-4dd5-be98-d9d81fbf73f7"
      },
      "outputs": [
        {
          "output_type": "stream",
          "name": "stdout",
          "text": [
            "True\n",
            "True\n",
            "False\n"
          ]
        }
      ],
      "source": [
        "#Check if array is palindrome\n",
        "\n",
        "def palindrome(arr,size):\n",
        "  palin=np.array([0]*size)\n",
        "  for i in range(size):\n",
        "    palin[i]=arr[i]\n",
        "  result=np.array([0]*size)\n",
        "  i=0\n",
        "  n=len(palin)\n",
        "  while(i<n):\n",
        "    result[i]=palin[n-1-i]\n",
        "    i+=1\n",
        "\n",
        "  if np.array_equal(result,palin):\n",
        "    return True\n",
        "  else:\n",
        "    return False\n",
        "\n",
        "\n",
        "\n",
        "arr= np.zeros(5, dtype=int)\n",
        "arr[0], arr[1], arr[2], arr[3] = 4, 6, 6, 4\n",
        "print(palindrome(arr, 4)) #array, size\n",
        "\n",
        "arr= np.zeros(5, dtype=int)\n",
        "arr[0], arr[1], arr[2] = 4, 6, 4\n",
        "print(palindrome(arr, 3)) #array, size\n",
        "\n",
        "arr= np.zeros(5, dtype=int)\n",
        "arr[0], arr[1], arr[2], arr[3] = 4, 6, 4, 5\n",
        "print(palindrome(arr, 4)) #array, size"
      ]
    },
    {
      "cell_type": "markdown",
      "source": [
        "kibhabe array theke dummy element gulo baad diye proper size a anbo\n",
        "\n",
        "array_equal()"
      ],
      "metadata": {
        "id": "dMUXM0wuQhlv"
      }
    },
    {
      "cell_type": "code",
      "source": [
        "#Reverse printing an Array\n",
        "\n",
        "def Rev_Print(arr,size):\n",
        "  reverse= np.array([0]*size)\n",
        "  for i in range(size):\n",
        "    reverse[i]=arr[i]\n",
        "\n",
        "  result=np.array([0]*size)\n",
        "  i=0\n",
        "  n=len(reverse)\n",
        "  while(i<n):\n",
        "    result[i]=reverse[n-1-i]\n",
        "    i+=1\n",
        "  return result\n",
        "\n",
        "\n",
        "\n",
        "arr= np.array([1,3,2 ,5 ,0 ,0])\n",
        "print(Rev_Print(arr, 4)) #Array, size\n",
        "\n"
      ],
      "metadata": {
        "colab": {
          "base_uri": "https://localhost:8080/"
        },
        "id": "JWhwoD5Z920m",
        "outputId": "ba3e9ae1-8097-4917-c62d-5bd20a569345"
      },
      "execution_count": null,
      "outputs": [
        {
          "output_type": "stream",
          "name": "stdout",
          "text": [
            "[5 2 3 1]\n"
          ]
        }
      ]
    },
    {
      "cell_type": "code",
      "source": [
        "#Merge Two Arrays\n",
        "\n",
        "def Merge_Arrays(arr1, x, arr2, y):\n",
        "\n",
        " m=x+y\n",
        "\n",
        " A=np.array([0]*x)\n",
        " for i in range(x):\n",
        "    A[i]=arr1[i]\n",
        "\n",
        " B=np.array([0]*y)\n",
        " for i in range(y):\n",
        "    B[i]=arr2[i]\n",
        "\n",
        " result=np.array([0]*m)\n",
        " for i in range(x):\n",
        "    result[i]=A[i]\n",
        " for i in range(y):\n",
        "    result[i+x]=B[i]\n",
        "\n",
        "\n",
        " return result\n",
        "\n",
        "\n",
        "arr1= np.array([1, 5,0, 0])\n",
        "arr2= np.array([3, 5 ,2 ,0])\n",
        "print(Merge_Arrays(arr1, 2, arr2, 3)) #Array1, Array1 size, Array2, Array2 size"
      ],
      "metadata": {
        "colab": {
          "base_uri": "https://localhost:8080/"
        },
        "id": "nf6kg7UaLgOT",
        "outputId": "b206604b-82e8-45ec-f714-e83e10698b55"
      },
      "execution_count": null,
      "outputs": [
        {
          "output_type": "stream",
          "name": "stdout",
          "text": [
            "[1 5 3 5 2]\n"
          ]
        }
      ]
    },
    {
      "cell_type": "markdown",
      "source": [
        "Concatenation =[1,2,1] >>> [1,2,1,1,2,1]\n",
        "\n",
        "Merging = [1,2,3] & [4,5,6] >> [1,2,3,4,5,6]"
      ],
      "metadata": {
        "id": "vTkSl9GzQlBL"
      }
    },
    {
      "cell_type": "code",
      "source": [
        "#BubbleSort\n",
        "\n",
        "import numpy as np\n",
        "\n",
        "def bubble_sort(arr):\n",
        "\n",
        "    n = len(arr)\n",
        "\n",
        "    # Traverse through all array elements\n",
        "    for i in range(n):\n",
        "        # Last i elements are already in place, so we don't need to check them\n",
        "        for j in range(0, n-i-1):\n",
        "            # Swap if the element found is greater than the next element\n",
        "            if arr[j] > arr[j+1]:\n",
        "                arr[j], arr[j+1] = arr[j+1], arr[j]\n",
        "\n",
        "    return arr\n",
        "\n",
        "# Example usage:\n",
        "my_array = np.array([6,8,5,4,90,43,21])\n",
        "sorted_array=bubble_sort(my_array)\n",
        "print(sorted_array)"
      ],
      "metadata": {
        "colab": {
          "base_uri": "https://localhost:8080/"
        },
        "id": "H2CABPIxRpwz",
        "outputId": "e8141f9c-bf12-4c69-a05d-b40080a9b5fe"
      },
      "execution_count": null,
      "outputs": [
        {
          "output_type": "stream",
          "name": "stdout",
          "text": [
            "[ 4  5  6  8 21 43 90]\n"
          ]
        }
      ]
    },
    {
      "cell_type": "code",
      "source": [
        "#Find the largest three distinct elements in an array\n",
        "\n",
        "def largest_three(arr):\n",
        "\n",
        "  def bubble_sort(arr):\n",
        "\n",
        "    n = len(arr)\n",
        "\n",
        "    # Traverse through all array elements\n",
        "    for i in range(n):\n",
        "        # Last i elements are already in place, so we don't need to check them\n",
        "        for j in range(0, n-i-1):\n",
        "            # Swap if the element found is greater than the next element\n",
        "            if arr[j] > arr[j+1]:\n",
        "                arr[j], arr[j+1] = arr[j+1], arr[j]\n",
        "\n",
        "    return arr\n",
        "\n",
        "  sorted=bubble_sort(arr)\n",
        "\n",
        "\n",
        "  for i in range((len(sorted)-3),(len(sorted))):\n",
        "    print(sorted[i],end=\",\")\n",
        "\n",
        "arr=np.array([10,4,3,50,23,90])\n",
        "largest_three(arr)\n",
        "\n",
        "\n"
      ],
      "metadata": {
        "id": "Ntx-2NF6QsN9",
        "colab": {
          "base_uri": "https://localhost:8080/"
        },
        "outputId": "26e282e0-c909-4491-a32b-a1b848fec677"
      },
      "execution_count": null,
      "outputs": [
        {
          "output_type": "stream",
          "name": "stdout",
          "text": [
            "23,50,90,"
          ]
        }
      ]
    },
    {
      "cell_type": "code",
      "source": [
        "#2nd Largest element in array\n",
        "\n",
        "\n",
        "\n",
        "\n",
        "\n",
        "#Bubble Sort\n",
        "#2nd Last element pf the sorted array"
      ],
      "metadata": {
        "id": "ukB2jczVW5In"
      },
      "execution_count": null,
      "outputs": []
    },
    {
      "cell_type": "code",
      "source": [
        "#Move all zeroes to the end of array\n"
      ],
      "metadata": {
        "id": "shhyot7yXTG5"
      },
      "execution_count": null,
      "outputs": []
    }
  ],
  "metadata": {
    "colab": {
      "provenance": []
    },
    "kernelspec": {
      "display_name": "Python 3",
      "name": "python3"
    },
    "language_info": {
      "name": "python"
    }
  },
  "nbformat": 4,
  "nbformat_minor": 0
}